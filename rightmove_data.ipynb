{
 "cells": [
  {
   "cell_type": "markdown",
   "id": "f388d119",
   "metadata": {},
   "source": [
    "# London rent prices on Rightmove\n",
    "\n",
    "\n",
    "In this project, I have created my own dataset by scraping the site Rightmove.\n",
    "https://www.rightmove.co.uk/\n",
    "\n",
    "It is a future plan of mine, soon or not so soon to live in the city, here I aim to find some insights into what money can buy in London. \n",
    "\n",
    "The dataset I've created consists of only 4 columns, and they are:\n",
    "\n",
    "Price, Location, Type, Link, Bedrooms.\n",
    "\n",
    "- Price - The price of the property per month.\n",
    "- Location - The address of the property.\n",
    "- Type - What type of property it is, i.e Flat, House, Shared apartment.\n",
    "- Link - A link that takes you to the property page.\n",
    "- Bedrooms - Number of bedrooms at the property."
   ]
  },
  {
   "cell_type": "markdown",
   "id": "7a005220",
   "metadata": {},
   "source": [
    "#### Importing the data"
   ]
  },
  {
   "cell_type": "code",
   "execution_count": 1,
   "id": "1856dcd5",
   "metadata": {},
   "outputs": [],
   "source": [
    "import pandas as pd\n",
    "import numpy as np\n",
    "import chardet\n",
    "import re"
   ]
  },
  {
   "cell_type": "code",
   "execution_count": 2,
   "id": "bcc0fb59",
   "metadata": {},
   "outputs": [
    {
     "name": "stdout",
     "output_type": "stream",
     "text": [
      "Detected Encoding: Windows-1252\n",
      "Confidence: 0.73\n",
      "   £5,250 pcm                Newark House, Loughborough Junction         Flat  \\\n",
      "0  £1,600 pcm                          Bulwer Court Road, London  Ground Flat   \n",
      "1  £2,900 pcm           Vandome Close, Custom House, London, E16        House   \n",
      "2  £1,900 pcm  Royal Tower Lodge, Cartwright Street, St Kathe...         Flat   \n",
      "3  £2,390 pcm                       Arlingford Road, London, SW2     Terraced   \n",
      "4  £3,500 pcm                    Beechcroft Avenue, London, NW11         Flat   \n",
      "\n",
      "    /properties/86194638#/?channel=RES_LET    4  \n",
      "0  /properties/136242707#/?channel=RES_LET  2.0  \n",
      "1  /properties/135790637#/?channel=RES_LET  4.0  \n",
      "2  /properties/123122660#/?channel=RES_LET  1.0  \n",
      "3  /properties/136242695#/?channel=RES_LET  2.0  \n",
      "4  /properties/136242698#/?channel=RES_LET  4.0  \n"
     ]
    }
   ],
   "source": [
    "file_path = r\"C:\\Users\\georg\\Desktop\\Data Centre\\DataPython\\Projects\\London Rent Prices\\rightmove_data_uncleaned.csv\"\n",
    "\n",
    "with open(file_path, 'rb') as f:\n",
    "    content = f.read()\n",
    "result = chardet.detect(content)\n",
    "encoding = result['encoding']\n",
    "\n",
    "print(\"Detected Encoding:\", encoding)\n",
    "print(\"Confidence:\", result['confidence'])\n",
    "\n",
    "data = pd.read_csv(file_path, encoding = encoding, header = 0)\n",
    "\n",
    "print(data.head())\n"
   ]
  },
  {
   "cell_type": "code",
   "execution_count": 3,
   "id": "f9e17391",
   "metadata": {},
   "outputs": [
    {
     "data": {
      "text/html": [
       "<div>\n",
       "<style scoped>\n",
       "    .dataframe tbody tr th:only-of-type {\n",
       "        vertical-align: middle;\n",
       "    }\n",
       "\n",
       "    .dataframe tbody tr th {\n",
       "        vertical-align: top;\n",
       "    }\n",
       "\n",
       "    .dataframe thead th {\n",
       "        text-align: right;\n",
       "    }\n",
       "</style>\n",
       "<table border=\"1\" class=\"dataframe\">\n",
       "  <thead>\n",
       "    <tr style=\"text-align: right;\">\n",
       "      <th></th>\n",
       "      <th>£5,250 pcm</th>\n",
       "      <th>Newark House, Loughborough Junction</th>\n",
       "      <th>Flat</th>\n",
       "      <th>/properties/86194638#/?channel=RES_LET</th>\n",
       "      <th>4</th>\n",
       "    </tr>\n",
       "  </thead>\n",
       "  <tbody>\n",
       "    <tr>\n",
       "      <th>0</th>\n",
       "      <td>£1,600 pcm</td>\n",
       "      <td>Bulwer Court Road, London</td>\n",
       "      <td>Ground Flat</td>\n",
       "      <td>/properties/136242707#/?channel=RES_LET</td>\n",
       "      <td>2.0</td>\n",
       "    </tr>\n",
       "    <tr>\n",
       "      <th>1</th>\n",
       "      <td>£2,900 pcm</td>\n",
       "      <td>Vandome Close, Custom House, London, E16</td>\n",
       "      <td>House</td>\n",
       "      <td>/properties/135790637#/?channel=RES_LET</td>\n",
       "      <td>4.0</td>\n",
       "    </tr>\n",
       "    <tr>\n",
       "      <th>2</th>\n",
       "      <td>£1,900 pcm</td>\n",
       "      <td>Royal Tower Lodge, Cartwright Street, St Kathe...</td>\n",
       "      <td>Flat</td>\n",
       "      <td>/properties/123122660#/?channel=RES_LET</td>\n",
       "      <td>1.0</td>\n",
       "    </tr>\n",
       "    <tr>\n",
       "      <th>3</th>\n",
       "      <td>£2,390 pcm</td>\n",
       "      <td>Arlingford Road, London, SW2</td>\n",
       "      <td>Terraced</td>\n",
       "      <td>/properties/136242695#/?channel=RES_LET</td>\n",
       "      <td>2.0</td>\n",
       "    </tr>\n",
       "    <tr>\n",
       "      <th>4</th>\n",
       "      <td>£3,500 pcm</td>\n",
       "      <td>Beechcroft Avenue, London, NW11</td>\n",
       "      <td>Flat</td>\n",
       "      <td>/properties/136242698#/?channel=RES_LET</td>\n",
       "      <td>4.0</td>\n",
       "    </tr>\n",
       "  </tbody>\n",
       "</table>\n",
       "</div>"
      ],
      "text/plain": [
       "   £5,250 pcm                Newark House, Loughborough Junction         Flat  \\\n",
       "0  £1,600 pcm                          Bulwer Court Road, London  Ground Flat   \n",
       "1  £2,900 pcm           Vandome Close, Custom House, London, E16        House   \n",
       "2  £1,900 pcm  Royal Tower Lodge, Cartwright Street, St Kathe...         Flat   \n",
       "3  £2,390 pcm                       Arlingford Road, London, SW2     Terraced   \n",
       "4  £3,500 pcm                    Beechcroft Avenue, London, NW11         Flat   \n",
       "\n",
       "    /properties/86194638#/?channel=RES_LET    4  \n",
       "0  /properties/136242707#/?channel=RES_LET  2.0  \n",
       "1  /properties/135790637#/?channel=RES_LET  4.0  \n",
       "2  /properties/123122660#/?channel=RES_LET  1.0  \n",
       "3  /properties/136242695#/?channel=RES_LET  2.0  \n",
       "4  /properties/136242698#/?channel=RES_LET  4.0  "
      ]
     },
     "execution_count": 3,
     "metadata": {},
     "output_type": "execute_result"
    }
   ],
   "source": [
    "properties = pd.DataFrame(data)\n",
    "properties.head()"
   ]
  },
  {
   "cell_type": "code",
   "execution_count": 4,
   "id": "bcbe31f1",
   "metadata": {},
   "outputs": [
    {
     "data": {
      "text/html": [
       "<div>\n",
       "<style scoped>\n",
       "    .dataframe tbody tr th:only-of-type {\n",
       "        vertical-align: middle;\n",
       "    }\n",
       "\n",
       "    .dataframe tbody tr th {\n",
       "        vertical-align: top;\n",
       "    }\n",
       "\n",
       "    .dataframe thead th {\n",
       "        text-align: right;\n",
       "    }\n",
       "</style>\n",
       "<table border=\"1\" class=\"dataframe\">\n",
       "  <thead>\n",
       "    <tr style=\"text-align: right;\">\n",
       "      <th></th>\n",
       "      <th>Price</th>\n",
       "      <th>Location</th>\n",
       "      <th>Type</th>\n",
       "      <th>Link</th>\n",
       "      <th>Bedrooms</th>\n",
       "    </tr>\n",
       "  </thead>\n",
       "  <tbody>\n",
       "    <tr>\n",
       "      <th>0</th>\n",
       "      <td>£1,600 pcm</td>\n",
       "      <td>Bulwer Court Road, London</td>\n",
       "      <td>Ground Flat</td>\n",
       "      <td>/properties/136242707#/?channel=RES_LET</td>\n",
       "      <td>2.0</td>\n",
       "    </tr>\n",
       "    <tr>\n",
       "      <th>1</th>\n",
       "      <td>£2,900 pcm</td>\n",
       "      <td>Vandome Close, Custom House, London, E16</td>\n",
       "      <td>House</td>\n",
       "      <td>/properties/135790637#/?channel=RES_LET</td>\n",
       "      <td>4.0</td>\n",
       "    </tr>\n",
       "    <tr>\n",
       "      <th>2</th>\n",
       "      <td>£1,900 pcm</td>\n",
       "      <td>Royal Tower Lodge, Cartwright Street, St Kathe...</td>\n",
       "      <td>Flat</td>\n",
       "      <td>/properties/123122660#/?channel=RES_LET</td>\n",
       "      <td>1.0</td>\n",
       "    </tr>\n",
       "    <tr>\n",
       "      <th>3</th>\n",
       "      <td>£2,390 pcm</td>\n",
       "      <td>Arlingford Road, London, SW2</td>\n",
       "      <td>Terraced</td>\n",
       "      <td>/properties/136242695#/?channel=RES_LET</td>\n",
       "      <td>2.0</td>\n",
       "    </tr>\n",
       "    <tr>\n",
       "      <th>4</th>\n",
       "      <td>£3,500 pcm</td>\n",
       "      <td>Beechcroft Avenue, London, NW11</td>\n",
       "      <td>Flat</td>\n",
       "      <td>/properties/136242698#/?channel=RES_LET</td>\n",
       "      <td>4.0</td>\n",
       "    </tr>\n",
       "  </tbody>\n",
       "</table>\n",
       "</div>"
      ],
      "text/plain": [
       "        Price                                           Location         Type  \\\n",
       "0  £1,600 pcm                          Bulwer Court Road, London  Ground Flat   \n",
       "1  £2,900 pcm           Vandome Close, Custom House, London, E16        House   \n",
       "2  £1,900 pcm  Royal Tower Lodge, Cartwright Street, St Kathe...         Flat   \n",
       "3  £2,390 pcm                       Arlingford Road, London, SW2     Terraced   \n",
       "4  £3,500 pcm                    Beechcroft Avenue, London, NW11         Flat   \n",
       "\n",
       "                                      Link  Bedrooms  \n",
       "0  /properties/136242707#/?channel=RES_LET       2.0  \n",
       "1  /properties/135790637#/?channel=RES_LET       4.0  \n",
       "2  /properties/123122660#/?channel=RES_LET       1.0  \n",
       "3  /properties/136242695#/?channel=RES_LET       2.0  \n",
       "4  /properties/136242698#/?channel=RES_LET       4.0  "
      ]
     },
     "execution_count": 4,
     "metadata": {},
     "output_type": "execute_result"
    }
   ],
   "source": [
    "columns = [\"Price\", \"Location\", \"Type\", \"Link\", \"Bedrooms\"]\n",
    "properties.columns = columns\n",
    "properties.head()"
   ]
  },
  {
   "cell_type": "markdown",
   "id": "c35c5bd9",
   "metadata": {},
   "source": [
    "#### Data cleaning"
   ]
  },
  {
   "cell_type": "markdown",
   "id": "dd659d95",
   "metadata": {},
   "source": [
    "To do:\n",
    "\n",
    "1. Check for null values and decide what to do with them if found.\n",
    "2. Price - remove string values and create integer values.\n",
    "3. Location - Extract postcode into a different column called \"Postcode\".\n",
    "4. Link - Add \"Rightmove.co.uk\" to the beginning of each value.\n",
    "5. Bedrooms - convert to integer value."
   ]
  },
  {
   "cell_type": "markdown",
   "id": "96e184bc",
   "metadata": {},
   "source": [
    "1."
   ]
  },
  {
   "cell_type": "code",
   "execution_count": 5,
   "id": "ef1193fd",
   "metadata": {},
   "outputs": [],
   "source": [
    "def null_values(properties):\n",
    "    null_count = properties.isnull().sum()\n",
    "    null_data = pd.DataFrame({'Column': null_count.index, 'Null values': null_count.values})\n",
    "    return null_data"
   ]
  },
  {
   "cell_type": "code",
   "execution_count": 6,
   "id": "c981afbd",
   "metadata": {},
   "outputs": [
    {
     "name": "stdout",
     "output_type": "stream",
     "text": [
      "     Column  Null values\n",
      "0     Price            0\n",
      "1  Location            0\n",
      "2      Type            0\n",
      "3      Link            0\n",
      "4  Bedrooms           20\n"
     ]
    }
   ],
   "source": [
    "null = null_values(properties)\n",
    "print(null)"
   ]
  },
  {
   "cell_type": "code",
   "execution_count": 7,
   "id": "0215f4da",
   "metadata": {},
   "outputs": [
    {
     "name": "stdout",
     "output_type": "stream",
     "text": [
      "<class 'pandas.core.frame.DataFrame'>\n",
      "RangeIndex: 1024 entries, 0 to 1023\n",
      "Data columns (total 5 columns):\n",
      " #   Column    Non-Null Count  Dtype  \n",
      "---  ------    --------------  -----  \n",
      " 0   Price     1024 non-null   object \n",
      " 1   Location  1024 non-null   object \n",
      " 2   Type      1024 non-null   object \n",
      " 3   Link      1024 non-null   object \n",
      " 4   Bedrooms  1004 non-null   float64\n",
      "dtypes: float64(1), object(4)\n",
      "memory usage: 40.1+ KB\n"
     ]
    }
   ],
   "source": [
    "properties.info()"
   ]
  },
  {
   "cell_type": "code",
   "execution_count": 8,
   "id": "adf26c61",
   "metadata": {},
   "outputs": [],
   "source": [
    "properties.dropna(inplace = True, axis = 0)"
   ]
  },
  {
   "cell_type": "code",
   "execution_count": 9,
   "id": "f7c5a1ae",
   "metadata": {},
   "outputs": [
    {
     "data": {
      "text/html": [
       "<div>\n",
       "<style scoped>\n",
       "    .dataframe tbody tr th:only-of-type {\n",
       "        vertical-align: middle;\n",
       "    }\n",
       "\n",
       "    .dataframe tbody tr th {\n",
       "        vertical-align: top;\n",
       "    }\n",
       "\n",
       "    .dataframe thead th {\n",
       "        text-align: right;\n",
       "    }\n",
       "</style>\n",
       "<table border=\"1\" class=\"dataframe\">\n",
       "  <thead>\n",
       "    <tr style=\"text-align: right;\">\n",
       "      <th></th>\n",
       "      <th>Column</th>\n",
       "      <th>Null values</th>\n",
       "    </tr>\n",
       "  </thead>\n",
       "  <tbody>\n",
       "    <tr>\n",
       "      <th>0</th>\n",
       "      <td>Price</td>\n",
       "      <td>0</td>\n",
       "    </tr>\n",
       "    <tr>\n",
       "      <th>1</th>\n",
       "      <td>Location</td>\n",
       "      <td>0</td>\n",
       "    </tr>\n",
       "    <tr>\n",
       "      <th>2</th>\n",
       "      <td>Type</td>\n",
       "      <td>0</td>\n",
       "    </tr>\n",
       "    <tr>\n",
       "      <th>3</th>\n",
       "      <td>Link</td>\n",
       "      <td>0</td>\n",
       "    </tr>\n",
       "    <tr>\n",
       "      <th>4</th>\n",
       "      <td>Bedrooms</td>\n",
       "      <td>0</td>\n",
       "    </tr>\n",
       "  </tbody>\n",
       "</table>\n",
       "</div>"
      ],
      "text/plain": [
       "     Column  Null values\n",
       "0     Price            0\n",
       "1  Location            0\n",
       "2      Type            0\n",
       "3      Link            0\n",
       "4  Bedrooms            0"
      ]
     },
     "execution_count": 9,
     "metadata": {},
     "output_type": "execute_result"
    }
   ],
   "source": [
    "null_values(properties)"
   ]
  },
  {
   "cell_type": "markdown",
   "id": "7ad66841",
   "metadata": {},
   "source": [
    "2."
   ]
  },
  {
   "cell_type": "code",
   "execution_count": 10,
   "id": "9b74a951",
   "metadata": {},
   "outputs": [],
   "source": [
    "properties[\"Price\"] = properties[\"Price\"].str.replace(\"£\", \"\").str.replace(\"pcm\", \"\").str.replace(\",\",\"\")\n",
    "properties[\"Price\"] = properties[\"Price\"].astype(int)"
   ]
  },
  {
   "cell_type": "code",
   "execution_count": 11,
   "id": "17f0b225",
   "metadata": {},
   "outputs": [
    {
     "data": {
      "text/plain": [
       "0       1600\n",
       "1       2900\n",
       "2       1900\n",
       "3       2390\n",
       "4       3500\n",
       "        ... \n",
       "1019    2708\n",
       "1020    1550\n",
       "1021    4914\n",
       "1022    1250\n",
       "1023    3450\n",
       "Name: Price, Length: 1004, dtype: int32"
      ]
     },
     "execution_count": 11,
     "metadata": {},
     "output_type": "execute_result"
    }
   ],
   "source": [
    "properties[\"Price\"]"
   ]
  },
  {
   "cell_type": "markdown",
   "id": "449cd8d0",
   "metadata": {},
   "source": [
    "3."
   ]
  },
  {
   "cell_type": "code",
   "execution_count": 12,
   "id": "21c7ae26",
   "metadata": {},
   "outputs": [],
   "source": [
    "def extract_postcode(text):\n",
    "    pattern = r\"London,\\s*([A-Za-z0-9]+)\"\n",
    "    match = re.search(pattern, text)\n",
    "    if match:\n",
    "        return match.group(1)\n",
    "    else:\n",
    "        return pd.NA\n",
    "\n",
    "properties[\"Postcode\"] = properties[\"Location\"].apply(extract_postcode)\n"
   ]
  },
  {
   "cell_type": "code",
   "execution_count": 13,
   "id": "dc392847",
   "metadata": {},
   "outputs": [
    {
     "data": {
      "text/html": [
       "<div>\n",
       "<style scoped>\n",
       "    .dataframe tbody tr th:only-of-type {\n",
       "        vertical-align: middle;\n",
       "    }\n",
       "\n",
       "    .dataframe tbody tr th {\n",
       "        vertical-align: top;\n",
       "    }\n",
       "\n",
       "    .dataframe thead th {\n",
       "        text-align: right;\n",
       "    }\n",
       "</style>\n",
       "<table border=\"1\" class=\"dataframe\">\n",
       "  <thead>\n",
       "    <tr style=\"text-align: right;\">\n",
       "      <th></th>\n",
       "      <th>Price</th>\n",
       "      <th>Location</th>\n",
       "      <th>Type</th>\n",
       "      <th>Link</th>\n",
       "      <th>Bedrooms</th>\n",
       "      <th>Postcode</th>\n",
       "    </tr>\n",
       "  </thead>\n",
       "  <tbody>\n",
       "    <tr>\n",
       "      <th>0</th>\n",
       "      <td>1600</td>\n",
       "      <td>Bulwer Court Road, London</td>\n",
       "      <td>Ground Flat</td>\n",
       "      <td>/properties/136242707#/?channel=RES_LET</td>\n",
       "      <td>2.0</td>\n",
       "      <td>&lt;NA&gt;</td>\n",
       "    </tr>\n",
       "    <tr>\n",
       "      <th>1</th>\n",
       "      <td>2900</td>\n",
       "      <td>Vandome Close, Custom House, London, E16</td>\n",
       "      <td>House</td>\n",
       "      <td>/properties/135790637#/?channel=RES_LET</td>\n",
       "      <td>4.0</td>\n",
       "      <td>E16</td>\n",
       "    </tr>\n",
       "    <tr>\n",
       "      <th>2</th>\n",
       "      <td>1900</td>\n",
       "      <td>Royal Tower Lodge, Cartwright Street, St Kathe...</td>\n",
       "      <td>Flat</td>\n",
       "      <td>/properties/123122660#/?channel=RES_LET</td>\n",
       "      <td>1.0</td>\n",
       "      <td>&lt;NA&gt;</td>\n",
       "    </tr>\n",
       "    <tr>\n",
       "      <th>3</th>\n",
       "      <td>2390</td>\n",
       "      <td>Arlingford Road, London, SW2</td>\n",
       "      <td>Terraced</td>\n",
       "      <td>/properties/136242695#/?channel=RES_LET</td>\n",
       "      <td>2.0</td>\n",
       "      <td>SW2</td>\n",
       "    </tr>\n",
       "    <tr>\n",
       "      <th>4</th>\n",
       "      <td>3500</td>\n",
       "      <td>Beechcroft Avenue, London, NW11</td>\n",
       "      <td>Flat</td>\n",
       "      <td>/properties/136242698#/?channel=RES_LET</td>\n",
       "      <td>4.0</td>\n",
       "      <td>NW11</td>\n",
       "    </tr>\n",
       "  </tbody>\n",
       "</table>\n",
       "</div>"
      ],
      "text/plain": [
       "   Price                                           Location         Type  \\\n",
       "0   1600                          Bulwer Court Road, London  Ground Flat   \n",
       "1   2900           Vandome Close, Custom House, London, E16        House   \n",
       "2   1900  Royal Tower Lodge, Cartwright Street, St Kathe...         Flat   \n",
       "3   2390                       Arlingford Road, London, SW2     Terraced   \n",
       "4   3500                    Beechcroft Avenue, London, NW11         Flat   \n",
       "\n",
       "                                      Link  Bedrooms Postcode  \n",
       "0  /properties/136242707#/?channel=RES_LET       2.0     <NA>  \n",
       "1  /properties/135790637#/?channel=RES_LET       4.0      E16  \n",
       "2  /properties/123122660#/?channel=RES_LET       1.0     <NA>  \n",
       "3  /properties/136242695#/?channel=RES_LET       2.0      SW2  \n",
       "4  /properties/136242698#/?channel=RES_LET       4.0     NW11  "
      ]
     },
     "execution_count": 13,
     "metadata": {},
     "output_type": "execute_result"
    }
   ],
   "source": [
    "properties.head()"
   ]
  },
  {
   "cell_type": "code",
   "execution_count": 14,
   "id": "8925f0d7",
   "metadata": {},
   "outputs": [
    {
     "data": {
      "text/html": [
       "<div>\n",
       "<style scoped>\n",
       "    .dataframe tbody tr th:only-of-type {\n",
       "        vertical-align: middle;\n",
       "    }\n",
       "\n",
       "    .dataframe tbody tr th {\n",
       "        vertical-align: top;\n",
       "    }\n",
       "\n",
       "    .dataframe thead th {\n",
       "        text-align: right;\n",
       "    }\n",
       "</style>\n",
       "<table border=\"1\" class=\"dataframe\">\n",
       "  <thead>\n",
       "    <tr style=\"text-align: right;\">\n",
       "      <th></th>\n",
       "      <th>Column</th>\n",
       "      <th>Null values</th>\n",
       "    </tr>\n",
       "  </thead>\n",
       "  <tbody>\n",
       "    <tr>\n",
       "      <th>0</th>\n",
       "      <td>Price</td>\n",
       "      <td>0</td>\n",
       "    </tr>\n",
       "    <tr>\n",
       "      <th>1</th>\n",
       "      <td>Location</td>\n",
       "      <td>0</td>\n",
       "    </tr>\n",
       "    <tr>\n",
       "      <th>2</th>\n",
       "      <td>Type</td>\n",
       "      <td>0</td>\n",
       "    </tr>\n",
       "    <tr>\n",
       "      <th>3</th>\n",
       "      <td>Link</td>\n",
       "      <td>0</td>\n",
       "    </tr>\n",
       "    <tr>\n",
       "      <th>4</th>\n",
       "      <td>Bedrooms</td>\n",
       "      <td>0</td>\n",
       "    </tr>\n",
       "    <tr>\n",
       "      <th>5</th>\n",
       "      <td>Postcode</td>\n",
       "      <td>446</td>\n",
       "    </tr>\n",
       "  </tbody>\n",
       "</table>\n",
       "</div>"
      ],
      "text/plain": [
       "     Column  Null values\n",
       "0     Price            0\n",
       "1  Location            0\n",
       "2      Type            0\n",
       "3      Link            0\n",
       "4  Bedrooms            0\n",
       "5  Postcode          446"
      ]
     },
     "execution_count": 14,
     "metadata": {},
     "output_type": "execute_result"
    }
   ],
   "source": [
    "null_values(properties)"
   ]
  },
  {
   "cell_type": "code",
   "execution_count": 15,
   "id": "1d249451",
   "metadata": {},
   "outputs": [],
   "source": [
    "properties.drop(columns = \"Postcode\", inplace = True) # Too many null values to be deemed viable"
   ]
  },
  {
   "cell_type": "code",
   "execution_count": 16,
   "id": "84463dc7",
   "metadata": {},
   "outputs": [
    {
     "data": {
      "text/html": [
       "<div>\n",
       "<style scoped>\n",
       "    .dataframe tbody tr th:only-of-type {\n",
       "        vertical-align: middle;\n",
       "    }\n",
       "\n",
       "    .dataframe tbody tr th {\n",
       "        vertical-align: top;\n",
       "    }\n",
       "\n",
       "    .dataframe thead th {\n",
       "        text-align: right;\n",
       "    }\n",
       "</style>\n",
       "<table border=\"1\" class=\"dataframe\">\n",
       "  <thead>\n",
       "    <tr style=\"text-align: right;\">\n",
       "      <th></th>\n",
       "      <th>Price</th>\n",
       "      <th>Location</th>\n",
       "      <th>Type</th>\n",
       "      <th>Link</th>\n",
       "      <th>Bedrooms</th>\n",
       "    </tr>\n",
       "  </thead>\n",
       "  <tbody>\n",
       "    <tr>\n",
       "      <th>0</th>\n",
       "      <td>1600</td>\n",
       "      <td>Bulwer Court Road, London</td>\n",
       "      <td>Ground Flat</td>\n",
       "      <td>/properties/136242707#/?channel=RES_LET</td>\n",
       "      <td>2.0</td>\n",
       "    </tr>\n",
       "    <tr>\n",
       "      <th>1</th>\n",
       "      <td>2900</td>\n",
       "      <td>Vandome Close, Custom House, London, E16</td>\n",
       "      <td>House</td>\n",
       "      <td>/properties/135790637#/?channel=RES_LET</td>\n",
       "      <td>4.0</td>\n",
       "    </tr>\n",
       "    <tr>\n",
       "      <th>2</th>\n",
       "      <td>1900</td>\n",
       "      <td>Royal Tower Lodge, Cartwright Street, St Kathe...</td>\n",
       "      <td>Flat</td>\n",
       "      <td>/properties/123122660#/?channel=RES_LET</td>\n",
       "      <td>1.0</td>\n",
       "    </tr>\n",
       "    <tr>\n",
       "      <th>3</th>\n",
       "      <td>2390</td>\n",
       "      <td>Arlingford Road, London, SW2</td>\n",
       "      <td>Terraced</td>\n",
       "      <td>/properties/136242695#/?channel=RES_LET</td>\n",
       "      <td>2.0</td>\n",
       "    </tr>\n",
       "    <tr>\n",
       "      <th>4</th>\n",
       "      <td>3500</td>\n",
       "      <td>Beechcroft Avenue, London, NW11</td>\n",
       "      <td>Flat</td>\n",
       "      <td>/properties/136242698#/?channel=RES_LET</td>\n",
       "      <td>4.0</td>\n",
       "    </tr>\n",
       "  </tbody>\n",
       "</table>\n",
       "</div>"
      ],
      "text/plain": [
       "   Price                                           Location         Type  \\\n",
       "0   1600                          Bulwer Court Road, London  Ground Flat   \n",
       "1   2900           Vandome Close, Custom House, London, E16        House   \n",
       "2   1900  Royal Tower Lodge, Cartwright Street, St Kathe...         Flat   \n",
       "3   2390                       Arlingford Road, London, SW2     Terraced   \n",
       "4   3500                    Beechcroft Avenue, London, NW11         Flat   \n",
       "\n",
       "                                      Link  Bedrooms  \n",
       "0  /properties/136242707#/?channel=RES_LET       2.0  \n",
       "1  /properties/135790637#/?channel=RES_LET       4.0  \n",
       "2  /properties/123122660#/?channel=RES_LET       1.0  \n",
       "3  /properties/136242695#/?channel=RES_LET       2.0  \n",
       "4  /properties/136242698#/?channel=RES_LET       4.0  "
      ]
     },
     "execution_count": 16,
     "metadata": {},
     "output_type": "execute_result"
    }
   ],
   "source": [
    "properties.head()"
   ]
  },
  {
   "cell_type": "markdown",
   "id": "ce612437",
   "metadata": {},
   "source": [
    "4."
   ]
  },
  {
   "cell_type": "code",
   "execution_count": 17,
   "id": "997e7920",
   "metadata": {},
   "outputs": [],
   "source": [
    "domain = \"rightmove.co.uk\"\n",
    "properties[\"Link\"] = domain + properties[\"Link\"]"
   ]
  },
  {
   "cell_type": "code",
   "execution_count": 18,
   "id": "b410983b",
   "metadata": {},
   "outputs": [
    {
     "data": {
      "text/html": [
       "<div>\n",
       "<style scoped>\n",
       "    .dataframe tbody tr th:only-of-type {\n",
       "        vertical-align: middle;\n",
       "    }\n",
       "\n",
       "    .dataframe tbody tr th {\n",
       "        vertical-align: top;\n",
       "    }\n",
       "\n",
       "    .dataframe thead th {\n",
       "        text-align: right;\n",
       "    }\n",
       "</style>\n",
       "<table border=\"1\" class=\"dataframe\">\n",
       "  <thead>\n",
       "    <tr style=\"text-align: right;\">\n",
       "      <th></th>\n",
       "      <th>Price</th>\n",
       "      <th>Location</th>\n",
       "      <th>Type</th>\n",
       "      <th>Link</th>\n",
       "      <th>Bedrooms</th>\n",
       "    </tr>\n",
       "  </thead>\n",
       "  <tbody>\n",
       "    <tr>\n",
       "      <th>0</th>\n",
       "      <td>1600</td>\n",
       "      <td>Bulwer Court Road, London</td>\n",
       "      <td>Ground Flat</td>\n",
       "      <td>rightmove.co.uk/properties/136242707#/?channel...</td>\n",
       "      <td>2.0</td>\n",
       "    </tr>\n",
       "    <tr>\n",
       "      <th>1</th>\n",
       "      <td>2900</td>\n",
       "      <td>Vandome Close, Custom House, London, E16</td>\n",
       "      <td>House</td>\n",
       "      <td>rightmove.co.uk/properties/135790637#/?channel...</td>\n",
       "      <td>4.0</td>\n",
       "    </tr>\n",
       "    <tr>\n",
       "      <th>2</th>\n",
       "      <td>1900</td>\n",
       "      <td>Royal Tower Lodge, Cartwright Street, St Kathe...</td>\n",
       "      <td>Flat</td>\n",
       "      <td>rightmove.co.uk/properties/123122660#/?channel...</td>\n",
       "      <td>1.0</td>\n",
       "    </tr>\n",
       "    <tr>\n",
       "      <th>3</th>\n",
       "      <td>2390</td>\n",
       "      <td>Arlingford Road, London, SW2</td>\n",
       "      <td>Terraced</td>\n",
       "      <td>rightmove.co.uk/properties/136242695#/?channel...</td>\n",
       "      <td>2.0</td>\n",
       "    </tr>\n",
       "    <tr>\n",
       "      <th>4</th>\n",
       "      <td>3500</td>\n",
       "      <td>Beechcroft Avenue, London, NW11</td>\n",
       "      <td>Flat</td>\n",
       "      <td>rightmove.co.uk/properties/136242698#/?channel...</td>\n",
       "      <td>4.0</td>\n",
       "    </tr>\n",
       "  </tbody>\n",
       "</table>\n",
       "</div>"
      ],
      "text/plain": [
       "   Price                                           Location         Type  \\\n",
       "0   1600                          Bulwer Court Road, London  Ground Flat   \n",
       "1   2900           Vandome Close, Custom House, London, E16        House   \n",
       "2   1900  Royal Tower Lodge, Cartwright Street, St Kathe...         Flat   \n",
       "3   2390                       Arlingford Road, London, SW2     Terraced   \n",
       "4   3500                    Beechcroft Avenue, London, NW11         Flat   \n",
       "\n",
       "                                                Link  Bedrooms  \n",
       "0  rightmove.co.uk/properties/136242707#/?channel...       2.0  \n",
       "1  rightmove.co.uk/properties/135790637#/?channel...       4.0  \n",
       "2  rightmove.co.uk/properties/123122660#/?channel...       1.0  \n",
       "3  rightmove.co.uk/properties/136242695#/?channel...       2.0  \n",
       "4  rightmove.co.uk/properties/136242698#/?channel...       4.0  "
      ]
     },
     "execution_count": 18,
     "metadata": {},
     "output_type": "execute_result"
    }
   ],
   "source": [
    "properties.head()"
   ]
  },
  {
   "cell_type": "markdown",
   "id": "66f4dcf2",
   "metadata": {},
   "source": [
    "5."
   ]
  },
  {
   "cell_type": "code",
   "execution_count": 19,
   "id": "ae329e59",
   "metadata": {},
   "outputs": [],
   "source": [
    "properties[\"Bedrooms\"] = properties[\"Bedrooms\"].astype(int)"
   ]
  },
  {
   "cell_type": "code",
   "execution_count": 20,
   "id": "8f05281e",
   "metadata": {},
   "outputs": [
    {
     "data": {
      "text/plain": [
       "0       2\n",
       "1       4\n",
       "2       1\n",
       "3       2\n",
       "4       4\n",
       "       ..\n",
       "1019    2\n",
       "1020    1\n",
       "1021    1\n",
       "1022    1\n",
       "1023    2\n",
       "Name: Bedrooms, Length: 1004, dtype: int32"
      ]
     },
     "execution_count": 20,
     "metadata": {},
     "output_type": "execute_result"
    }
   ],
   "source": [
    "properties[\"Bedrooms\"]"
   ]
  },
  {
   "cell_type": "code",
   "execution_count": 21,
   "id": "beefa458",
   "metadata": {},
   "outputs": [
    {
     "data": {
      "text/html": [
       "<div>\n",
       "<style scoped>\n",
       "    .dataframe tbody tr th:only-of-type {\n",
       "        vertical-align: middle;\n",
       "    }\n",
       "\n",
       "    .dataframe tbody tr th {\n",
       "        vertical-align: top;\n",
       "    }\n",
       "\n",
       "    .dataframe thead th {\n",
       "        text-align: right;\n",
       "    }\n",
       "</style>\n",
       "<table border=\"1\" class=\"dataframe\">\n",
       "  <thead>\n",
       "    <tr style=\"text-align: right;\">\n",
       "      <th></th>\n",
       "      <th>Price</th>\n",
       "      <th>Location</th>\n",
       "      <th>Type</th>\n",
       "      <th>Link</th>\n",
       "      <th>Bedrooms</th>\n",
       "    </tr>\n",
       "  </thead>\n",
       "  <tbody>\n",
       "    <tr>\n",
       "      <th>0</th>\n",
       "      <td>1600</td>\n",
       "      <td>Bulwer Court Road, London</td>\n",
       "      <td>Ground Flat</td>\n",
       "      <td>rightmove.co.uk/properties/136242707#/?channel...</td>\n",
       "      <td>2</td>\n",
       "    </tr>\n",
       "    <tr>\n",
       "      <th>1</th>\n",
       "      <td>2900</td>\n",
       "      <td>Vandome Close, Custom House, London, E16</td>\n",
       "      <td>House</td>\n",
       "      <td>rightmove.co.uk/properties/135790637#/?channel...</td>\n",
       "      <td>4</td>\n",
       "    </tr>\n",
       "    <tr>\n",
       "      <th>2</th>\n",
       "      <td>1900</td>\n",
       "      <td>Royal Tower Lodge, Cartwright Street, St Kathe...</td>\n",
       "      <td>Flat</td>\n",
       "      <td>rightmove.co.uk/properties/123122660#/?channel...</td>\n",
       "      <td>1</td>\n",
       "    </tr>\n",
       "    <tr>\n",
       "      <th>3</th>\n",
       "      <td>2390</td>\n",
       "      <td>Arlingford Road, London, SW2</td>\n",
       "      <td>Terraced</td>\n",
       "      <td>rightmove.co.uk/properties/136242695#/?channel...</td>\n",
       "      <td>2</td>\n",
       "    </tr>\n",
       "    <tr>\n",
       "      <th>4</th>\n",
       "      <td>3500</td>\n",
       "      <td>Beechcroft Avenue, London, NW11</td>\n",
       "      <td>Flat</td>\n",
       "      <td>rightmove.co.uk/properties/136242698#/?channel...</td>\n",
       "      <td>4</td>\n",
       "    </tr>\n",
       "  </tbody>\n",
       "</table>\n",
       "</div>"
      ],
      "text/plain": [
       "   Price                                           Location         Type  \\\n",
       "0   1600                          Bulwer Court Road, London  Ground Flat   \n",
       "1   2900           Vandome Close, Custom House, London, E16        House   \n",
       "2   1900  Royal Tower Lodge, Cartwright Street, St Kathe...         Flat   \n",
       "3   2390                       Arlingford Road, London, SW2     Terraced   \n",
       "4   3500                    Beechcroft Avenue, London, NW11         Flat   \n",
       "\n",
       "                                                Link  Bedrooms  \n",
       "0  rightmove.co.uk/properties/136242707#/?channel...         2  \n",
       "1  rightmove.co.uk/properties/135790637#/?channel...         4  \n",
       "2  rightmove.co.uk/properties/123122660#/?channel...         1  \n",
       "3  rightmove.co.uk/properties/136242695#/?channel...         2  \n",
       "4  rightmove.co.uk/properties/136242698#/?channel...         4  "
      ]
     },
     "execution_count": 21,
     "metadata": {},
     "output_type": "execute_result"
    }
   ],
   "source": [
    "properties.head()"
   ]
  },
  {
   "cell_type": "code",
   "execution_count": 22,
   "id": "18172cc0",
   "metadata": {},
   "outputs": [],
   "source": [
    "properties.to_csv(r\"C:\\Users\\georg\\Desktop\\Data Centre\\DataPython\\Projects\\London Rent Prices\\rightmove_data.csv\", \n",
    "                  encoding = \"UTF-8\")"
   ]
  }
 ],
 "metadata": {
  "kernelspec": {
   "display_name": "Python 3 (ipykernel)",
   "language": "python",
   "name": "python3"
  },
  "language_info": {
   "codemirror_mode": {
    "name": "ipython",
    "version": 3
   },
   "file_extension": ".py",
   "mimetype": "text/x-python",
   "name": "python",
   "nbconvert_exporter": "python",
   "pygments_lexer": "ipython3",
   "version": "3.10.9"
  }
 },
 "nbformat": 4,
 "nbformat_minor": 5
}
